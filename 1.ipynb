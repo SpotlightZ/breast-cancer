{
 "cells": [
  {
   "cell_type": "code",
   "execution_count": 2,
   "metadata": {},
   "outputs": [],
   "source": [
    "import pandas as pd\n",
    "# import matplotlib.pyplot as plt\n",
    "# import matplotlib as mpl\n",
    "# from matplotlib import colors\n",
    "import numpy as np\n",
    "from sklearn import  svm\n",
    "from sklearn.svm import SVC\n",
    "from sklearn import model_selection\n",
    "# from sklearn.model_selection import KFold"
   ]
  },
  {
   "cell_type": "code",
   "execution_count": 6,
   "metadata": {},
   "outputs": [
    {
     "name": "stdout",
     "output_type": "stream",
     "text": [
      "     0    1    2    3            4\n",
      "0  5.1  3.5  1.4  0.2  Iris-setosa\n",
      "1  4.9  3.0  1.4  0.2  Iris-setosa\n",
      "2  4.7  3.2  1.3  0.2  Iris-setosa\n",
      "3  4.6  3.1  1.5  0.2  Iris-setosa\n",
      "4  5.0  3.6  1.4  0.2  Iris-setosa\n",
      "                0           1           2           3\n",
      "count  150.000000  150.000000  150.000000  150.000000\n",
      "mean     5.843333    3.054000    3.758667    1.198667\n",
      "std      0.828066    0.433594    1.764420    0.763161\n",
      "min      4.300000    2.000000    1.000000    0.100000\n",
      "25%      5.100000    2.800000    1.600000    0.300000\n",
      "50%      5.800000    3.000000    4.350000    1.300000\n",
      "75%      6.400000    3.300000    5.100000    1.800000\n",
      "max      7.900000    4.400000    6.900000    2.500000\n"
     ]
    }
   ],
   "source": [
    "data=pd.read_csv(r\"iris.data\",delimiter=\",\",header=None)\n",
    "print(data.head())\n",
    "print(data.describe())"
   ]
  },
  {
   "cell_type": "code",
   "execution_count": 7,
   "metadata": {},
   "outputs": [],
   "source": [
    "x= np.array(data[[0,1,2,3]])\n",
    "y= pd.factorize(data[4])[0]"
   ]
  },
  {
   "cell_type": "code",
   "execution_count": 8,
   "metadata": {},
   "outputs": [
    {
     "name": "stdout",
     "output_type": "stream",
     "text": [
      "(120, 4) (30, 4)\n",
      "(120, 4) (30, 4)\n",
      "(120, 4) (30, 4)\n",
      "(120, 4) (30, 4)\n",
      "(120, 4) (30, 4)\n"
     ]
    }
   ],
   "source": [
    "from sklearn.model_selection import KFold\n",
    "kf=KFold (n_splits=5,shuffle=True,random_state=10)\n",
    "for train_index,test_index in kf.split(x):\n",
    "    X_train,X_test = x[train_index],x[test_index]\n",
    "    print(X_train.shape,X_test.shape)"
   ]
  },
  {
   "cell_type": "markdown",
   "metadata": {},
   "source": [
    "逻辑回归0.9467"
   ]
  },
  {
   "cell_type": "code",
   "execution_count": 9,
   "metadata": {},
   "outputs": [
    {
     "name": "stdout",
     "output_type": "stream",
     "text": [
      "acc:0.9000\n",
      "acc:0.9167\n",
      "acc:0.9111\n",
      "acc:0.9333\n",
      "acc:0.9467\n"
     ]
    }
   ],
   "source": [
    "from sklearn.linear_model import LogisticRegression\n",
    "score_lst=[]\n",
    "for train_index, test_index in kf.split(x):\n",
    "    X_train,X_test = x[train_index],x[test_index]\n",
    "    Y_train,Y_test = y[train_index],y[test_index]\n",
    "    model=LogisticRegression(solver='liblinear').fit(X_train,Y_train)\n",
    "    score_lst.append(model.score(X_test,Y_test))\n",
    "    score_ave=sum(score_lst)/len(score_lst)\n",
    "    print(\"acc:{:.4f}\".format(score_ave))"
   ]
  },
  {
   "cell_type": "markdown",
   "metadata": {},
   "source": [
    "决策树0.9400"
   ]
  },
  {
   "cell_type": "code",
   "execution_count": 12,
   "metadata": {},
   "outputs": [
    {
     "name": "stdout",
     "output_type": "stream",
     "text": [
      "acc:0.9667\n",
      "acc:0.9500\n",
      "acc:0.9444\n",
      "acc:0.9333\n",
      "acc:0.9400\n"
     ]
    }
   ],
   "source": [
    "from sklearn.tree import DecisionTreeClassifier\n",
    "score_lst=[]\n",
    "for train_index, test_index in kf.split(x):\n",
    "    X_train,X_test = x[train_index],x[test_index]\n",
    "    Y_train,Y_test = y[train_index],y[test_index]\n",
    "    model=DecisionTreeClassifier(random_state=0).fit(X_train,Y_train)\n",
    "    score_lst.append(model.score(X_test,Y_test))\n",
    "    score_ave=sum(score_lst)/len(score_lst)\n",
    "    print(\"acc:{:.4f}\".format(score_ave))"
   ]
  },
  {
   "cell_type": "markdown",
   "metadata": {},
   "source": [
    "SVM0.9800"
   ]
  },
  {
   "cell_type": "code",
   "execution_count": 13,
   "metadata": {},
   "outputs": [
    {
     "name": "stdout",
     "output_type": "stream",
     "text": [
      "acc:0.9667\n",
      "acc:0.9667\n",
      "acc:0.9667\n",
      "acc:0.9750\n",
      "acc:0.9800\n"
     ]
    }
   ],
   "source": [
    "\n",
    "from sklearn.svm import SVC\n",
    "score_lst=[]\n",
    "for train_index, test_index in kf.split(x):\n",
    "    X_train,X_test = x[train_index],x[test_index]\n",
    "    Y_train,Y_test = y[train_index],y[test_index]\n",
    "    model=SVC(kernel='linear',C=1.0,random_state= 0).fit(X_train,Y_train)\n",
    "    score_lst.append(model.score(X_test,Y_test))\n",
    "    score_ave=sum(score_lst)/len(score_lst)\n",
    "    print(\"acc:{:.4f}\".format(score_ave))"
   ]
  },
  {
   "cell_type": "markdown",
   "metadata": {},
   "source": [
    "随机森林0.9533"
   ]
  },
  {
   "cell_type": "code",
   "execution_count": 14,
   "metadata": {},
   "outputs": [
    {
     "name": "stdout",
     "output_type": "stream",
     "text": [
      "acc:0.9667\n",
      "acc:0.9667\n",
      "acc:0.9556\n",
      "acc:0.9500\n",
      "acc:0.9533\n"
     ]
    }
   ],
   "source": [
    "from sklearn.ensemble import RandomForestClassifier\n",
    "score_lst=[]\n",
    "for train_index, test_index in kf.split(x):\n",
    "    X_train,X_test = x[train_index],x[test_index]\n",
    "    Y_train,Y_test = y[train_index],y[test_index]\n",
    "    model=RandomForestClassifier(n_estimators=100, random_state=90).fit(X_train,Y_train)\n",
    "    score_lst.append(model.score(X_test,Y_test))\n",
    "    score_ave=sum(score_lst)/len(score_lst)\n",
    "    print(\"acc:{:.4f}\".format(score_ave))"
   ]
  },
  {
   "cell_type": "markdown",
   "metadata": {},
   "source": [
    "KNN0.9600"
   ]
  },
  {
   "cell_type": "code",
   "execution_count": 15,
   "metadata": {},
   "outputs": [
    {
     "name": "stdout",
     "output_type": "stream",
     "text": [
      "acc:0.9667\n",
      "acc:0.9667\n",
      "acc:0.9556\n",
      "acc:0.9583\n",
      "acc:0.9600\n"
     ]
    }
   ],
   "source": [
    "from sklearn.neighbors import KNeighborsClassifier\n",
    "score_lst=[]\n",
    "for train_index, test_index in kf.split(x):\n",
    "    X_train,X_test = x[train_index],x[test_index]\n",
    "    Y_train,Y_test = y[train_index],y[test_index]\n",
    "    model=KNeighborsClassifier().fit(X_train,Y_train)\n",
    "    score_lst.append(model.score(X_test,Y_test))\n",
    "    score_ave=sum(score_lst)/len(score_lst)\n",
    "    print(\"acc:{:.4f}\".format(score_ave))"
   ]
  }
 ],
 "metadata": {
  "interpreter": {
   "hash": "b3ba2566441a7c06988d0923437866b63cedc61552a5af99d1f4fb67d367b25f"
  },
  "kernelspec": {
   "display_name": "Python 3.8.5 64-bit ('base': conda)",
   "language": "python",
   "name": "python3"
  },
  "language_info": {
   "codemirror_mode": {
    "name": "ipython",
    "version": 3
   },
   "file_extension": ".py",
   "mimetype": "text/x-python",
   "name": "python",
   "nbconvert_exporter": "python",
   "pygments_lexer": "ipython3",
   "version": "3.9.19"
  },
  "orig_nbformat": 4
 },
 "nbformat": 4,
 "nbformat_minor": 2
}
