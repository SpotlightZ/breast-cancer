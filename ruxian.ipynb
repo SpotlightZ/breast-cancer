{
 "cells": [
  {
   "cell_type": "code",
   "execution_count": 2,
   "metadata": {},
   "outputs": [
    {
     "name": "stdout",
     "output_type": "stream",
     "text": [
      "Intel MKL WARNING: Support of Intel(R) Streaming SIMD Extensions 4.2 (Intel(R) SSE4.2) enabled only processors has been deprecated. Intel oneAPI Math Kernel Library 2025.0 will require Intel(R) Advanced Vector Extensions (Intel(R) AVX) instructions.\n",
      "Intel MKL WARNING: Support of Intel(R) Streaming SIMD Extensions 4.2 (Intel(R) SSE4.2) enabled only processors has been deprecated. Intel oneAPI Math Kernel Library 2025.0 will require Intel(R) Advanced Vector Extensions (Intel(R) AVX) instructions.\n"
     ]
    }
   ],
   "source": [
    "import cv2\n",
    "import os\n",
    "import numpy as np\n",
    "import torch\n",
    "import torch.nn as nn\n",
    "import torch.nn.functional as F\n",
    "import torch.optim as optim\n",
    "from torchvision import transforms\n"
   ]
  },
  {
   "cell_type": "code",
   "execution_count": 3,
   "metadata": {},
   "outputs": [],
   "source": [
    "transform=transforms.Compose([\n",
    "    transforms.ToPILImage(),\n",
    "    transforms.RandomHorizontalFlip(),\n",
    "    transforms.RandomVerticalFlip(),\n",
    "    transforms.RandomRotation(15),\n",
    "    transforms.ToTensor()\n",
    "])"
   ]
  },
  {
   "cell_type": "code",
   "execution_count": 4,
   "metadata": {},
   "outputs": [],
   "source": [
    "benign_file=[]\n",
    "malignant_file=[]\n",
    "for root,dirs,files in os.walk(\"./data\",topdown=False):\n",
    "    if 'label' not in root:\n",
    "        for file in files:\n",
    "            if file[-3:]=='tif':\n",
    "                tmp=file.split('_')\n",
    "                label_file=str(int(tmp[-1][0:4])-3*116).zfill(3)+'.tif'\n",
    "                if 'benign' in root:\n",
    "                    labbel_file_abs=os.path.join(root.replace('benign','benign_label'),label_file)\n",
    "                elif 'malignant' in root:\n",
    "                    labbel_file_abs=os.path.join(root.replace('malignant','malignant_label'),label_file)\n",
    "                if os.path.isfile(labbel_file_abs):\n",
    "                    if 'benign' in root :\n",
    "                        benign_file.append((os.path.join(root,file),labbel_file_abs))\n",
    "                    elif 'malignant' in root:\n",
    "                        malignant_file.append((os.path.join(root,file),labbel_file_abs))\n",
    "                        \n"
   ]
  },
  {
   "cell_type": "code",
   "execution_count": null,
   "metadata": {},
   "outputs": [],
   "source": []
  },
  {
   "cell_type": "code",
   "execution_count": 5,
   "metadata": {},
   "outputs": [],
   "source": [
    "def computCenter(img_bin):\n",
    "    contours,_=cv2.findContours(img_bin,cv2.RETR_TREE,cv2.CHAIN_APPROX_NONE)\n",
    "    cnt=contours[0]\n",
    "    box=cv2.boundingRect(cnt)\n",
    "    return box"
   ]
  },
  {
   "cell_type": "code",
   "execution_count": 6,
   "metadata": {},
   "outputs": [
    {
     "name": "stdout",
     "output_type": "stream",
     "text": [
      "(0,)\n"
     ]
    }
   ],
   "source": [
    "img_size=75\n",
    "benign_img=[]\n",
    "for ori,label in benign_file:\n",
    "    ori_img=cv2.imread(ori,0)\n",
    "    label_img=cv2.imread(label,0)\n",
    "    x,y,w,h=computCenter(label_img)\n",
    "    ori_img=ori_img[y:y+img_size,x:x+img_size]\n",
    "    label_img=label_img[y:y+h,x:x+w]\n",
    "    ori_img=np.reshape(ori_img,(1,ori_img.shape[0],ori_img.shape[1]))\n",
    "\n",
    "    benign_img.append(ori_img)\n",
    "\n",
    "benign_img=np.asarray(benign_img)\n",
    "print(benign_img.shape)"
   ]
  },
  {
   "cell_type": "code",
   "execution_count": 7,
   "metadata": {},
   "outputs": [
    {
     "name": "stdout",
     "output_type": "stream",
     "text": [
      "(0,)\n"
     ]
    }
   ],
   "source": [
    "img_size=75\n",
    "malignant_img=[]\n",
    "for ori,label in malignant_file:\n",
    "    ori_img=cv2.imread(ori,0)\n",
    "    label_img=cv2.imread(label,0)\n",
    "    x,y,w,h=computCenter(label_img)\n",
    "    ori_img=ori_img[y:y+img_size,x:x+img_size]\n",
    "    label_img=label_img[y:y+h,x:x+w]\n",
    "    ori_img=np.reshape(ori_img,(1,ori_img.shape[0],ori_img.shape[1]))\n",
    "\n",
    "    malignant_img.append(ori_img)\n",
    "\n",
    "malignant_img=np.asarray(malignant_img)\n",
    "print(malignant_img.shape)"
   ]
  },
  {
   "cell_type": "code",
   "execution_count": 8,
   "metadata": {},
   "outputs": [],
   "source": [
    "from torch.utils.data import Dataset\n",
    "class CustomTensorDataset(Dataset):\n",
    "    def __init__(self,tensors,transforms=None):\n",
    "        assert all(tensors[0].size(0)==tensor.size(0) for tensor in tensors)\n",
    "        self.tensors=tensors\n",
    "        self.transform=transforms\n",
    "\n",
    "    def __getitem__(self,index):\n",
    "        x=self.tensors[0][index]\n",
    "\n",
    "        if self.transform:\n",
    "            x=self.transform(x)\n",
    "\n",
    "        y=self.tensors[1][index]\n",
    "\n",
    "        return x,y\n",
    "\n",
    "    def __len__(self):\n",
    "        return self.tensors[0].size(0)"
   ]
  },
  {
   "cell_type": "code",
   "execution_count": 9,
   "metadata": {},
   "outputs": [
    {
     "name": "stdout",
     "output_type": "stream",
     "text": [
      "(0,)\n"
     ]
    },
    {
     "ename": "ValueError",
     "evalue": "With n_samples=0, test_size=0.2 and train_size=None, the resulting train set will be empty. Adjust any of the aforementioned parameters.",
     "output_type": "error",
     "traceback": [
      "\u001b[0;31m---------------------------------------------------------------------------\u001b[0m",
      "\u001b[0;31mValueError\u001b[0m                                Traceback (most recent call last)",
      "Cell \u001b[0;32mIn[9], line 5\u001b[0m\n\u001b[1;32m      3\u001b[0m x\u001b[38;5;241m=\u001b[39mnp\u001b[38;5;241m.\u001b[39mconcatenate((benign_img,malignant_img),axis\u001b[38;5;241m=\u001b[39m\u001b[38;5;241m0\u001b[39m)\n\u001b[1;32m      4\u001b[0m \u001b[38;5;28mprint\u001b[39m(x\u001b[38;5;241m.\u001b[39mshape)\n\u001b[0;32m----> 5\u001b[0m train_x,test_x,train_y,test_y\u001b[38;5;241m=\u001b[39m\u001b[43mtrain_test_split\u001b[49m\u001b[43m(\u001b[49m\u001b[43mx\u001b[49m\u001b[43m,\u001b[49m\u001b[43my\u001b[49m\u001b[43m,\u001b[49m\u001b[43mtest_size\u001b[49m\u001b[38;5;241;43m=\u001b[39;49m\u001b[38;5;241;43m0.2\u001b[39;49m\u001b[43m,\u001b[49m\u001b[43mshuffle\u001b[49m\u001b[38;5;241;43m=\u001b[39;49m\u001b[38;5;28;43;01mTrue\u001b[39;49;00m\u001b[43m,\u001b[49m\u001b[43mrandom_state\u001b[49m\u001b[38;5;241;43m=\u001b[39;49m\u001b[38;5;241;43m7\u001b[39;49m\u001b[43m)\u001b[49m\n",
      "File \u001b[0;32m~/opt/miniconda3/lib/python3.9/site-packages/sklearn/model_selection/_split.py:2448\u001b[0m, in \u001b[0;36mtrain_test_split\u001b[0;34m(test_size, train_size, random_state, shuffle, stratify, *arrays)\u001b[0m\n\u001b[1;32m   2445\u001b[0m arrays \u001b[38;5;241m=\u001b[39m indexable(\u001b[38;5;241m*\u001b[39marrays)\n\u001b[1;32m   2447\u001b[0m n_samples \u001b[38;5;241m=\u001b[39m _num_samples(arrays[\u001b[38;5;241m0\u001b[39m])\n\u001b[0;32m-> 2448\u001b[0m n_train, n_test \u001b[38;5;241m=\u001b[39m \u001b[43m_validate_shuffle_split\u001b[49m\u001b[43m(\u001b[49m\n\u001b[1;32m   2449\u001b[0m \u001b[43m    \u001b[49m\u001b[43mn_samples\u001b[49m\u001b[43m,\u001b[49m\u001b[43m \u001b[49m\u001b[43mtest_size\u001b[49m\u001b[43m,\u001b[49m\u001b[43m \u001b[49m\u001b[43mtrain_size\u001b[49m\u001b[43m,\u001b[49m\u001b[43m \u001b[49m\u001b[43mdefault_test_size\u001b[49m\u001b[38;5;241;43m=\u001b[39;49m\u001b[38;5;241;43m0.25\u001b[39;49m\n\u001b[1;32m   2450\u001b[0m \u001b[43m\u001b[49m\u001b[43m)\u001b[49m\n\u001b[1;32m   2452\u001b[0m \u001b[38;5;28;01mif\u001b[39;00m shuffle \u001b[38;5;129;01mis\u001b[39;00m \u001b[38;5;28;01mFalse\u001b[39;00m:\n\u001b[1;32m   2453\u001b[0m     \u001b[38;5;28;01mif\u001b[39;00m stratify \u001b[38;5;129;01mis\u001b[39;00m \u001b[38;5;129;01mnot\u001b[39;00m \u001b[38;5;28;01mNone\u001b[39;00m:\n",
      "File \u001b[0;32m~/opt/miniconda3/lib/python3.9/site-packages/sklearn/model_selection/_split.py:2126\u001b[0m, in \u001b[0;36m_validate_shuffle_split\u001b[0;34m(n_samples, test_size, train_size, default_test_size)\u001b[0m\n\u001b[1;32m   2123\u001b[0m n_train, n_test \u001b[38;5;241m=\u001b[39m \u001b[38;5;28mint\u001b[39m(n_train), \u001b[38;5;28mint\u001b[39m(n_test)\n\u001b[1;32m   2125\u001b[0m \u001b[38;5;28;01mif\u001b[39;00m n_train \u001b[38;5;241m==\u001b[39m \u001b[38;5;241m0\u001b[39m:\n\u001b[0;32m-> 2126\u001b[0m     \u001b[38;5;28;01mraise\u001b[39;00m \u001b[38;5;167;01mValueError\u001b[39;00m(\n\u001b[1;32m   2127\u001b[0m         \u001b[38;5;124m\"\u001b[39m\u001b[38;5;124mWith n_samples=\u001b[39m\u001b[38;5;132;01m{}\u001b[39;00m\u001b[38;5;124m, test_size=\u001b[39m\u001b[38;5;132;01m{}\u001b[39;00m\u001b[38;5;124m and train_size=\u001b[39m\u001b[38;5;132;01m{}\u001b[39;00m\u001b[38;5;124m, the \u001b[39m\u001b[38;5;124m\"\u001b[39m\n\u001b[1;32m   2128\u001b[0m         \u001b[38;5;124m\"\u001b[39m\u001b[38;5;124mresulting train set will be empty. Adjust any of the \u001b[39m\u001b[38;5;124m\"\u001b[39m\n\u001b[1;32m   2129\u001b[0m         \u001b[38;5;124m\"\u001b[39m\u001b[38;5;124maforementioned parameters.\u001b[39m\u001b[38;5;124m\"\u001b[39m\u001b[38;5;241m.\u001b[39mformat(n_samples, test_size, train_size)\n\u001b[1;32m   2130\u001b[0m     )\n\u001b[1;32m   2132\u001b[0m \u001b[38;5;28;01mreturn\u001b[39;00m n_train, n_test\n",
      "\u001b[0;31mValueError\u001b[0m: With n_samples=0, test_size=0.2 and train_size=None, the resulting train set will be empty. Adjust any of the aforementioned parameters."
     ]
    }
   ],
   "source": [
    "from sklearn.model_selection import train_test_split\n",
    "y=[0]*len(benign_img)+[1]*len(malignant_img)\n",
    "x=np.concatenate((benign_img,malignant_img),axis=0)\n",
    "print(x.shape)\n",
    "train_x,test_x,train_y,test_y=train_test_split(x,y,test_size=0.2,shuffle=True,random_state=7)"
   ]
  },
  {
   "cell_type": "code",
   "execution_count": 11,
   "metadata": {},
   "outputs": [],
   "source": [
    "from torch.utils.data import DataLoader,TensorDataset,Dataset\n",
    "train_x=torch.tensor(train_x)\n",
    "test_x=torch.tensor(test_x)/255\n",
    "train_y=torch.tensor(train_y)\n",
    "test_y=torch.tensor(test_y)\n",
    "train_ids=CustomTensorDataset(tensors=(train_x,train_y),transforms=transform)\n",
    "train_loader=DataLoader(dataset=train_ids,batch_size=32,shuffle=True)\n",
    "train_dl=TensorDataset(test_x,test_y)\n",
    "test_loader=DataLoader(dataset=train_dl,batch_size=test_y.shape[0])"
   ]
  },
  {
   "cell_type": "code",
   "execution_count": 12,
   "metadata": {},
   "outputs": [
    {
     "name": "stdout",
     "output_type": "stream",
     "text": [
      "0 torch.Size([32, 1, 75, 75])\n"
     ]
    }
   ],
   "source": [
    "for i ,data in enumerate(train_loader):\n",
    "    print(i,data[0].shape)\n",
    "    break"
   ]
  },
  {
   "cell_type": "code",
   "execution_count": 54,
   "metadata": {},
   "outputs": [],
   "source": [
    "class Net1(nn.Module):\n",
    "    def __init__(self)->None:\n",
    "        super(Net1,self).__init__()\n",
    "        self.conv1=nn.Conv2d(1,8,kernel_size=5)\n",
    "        self.conv2=nn.Conv2d(8,16,kernel_size=3)\n",
    "        self.conv3=nn.Conv2d(16,32,kernel_size=3)\n",
    "        self.conv2_drop=nn.Dropout2d()\n",
    "        self.fc1=nn.Linear(7*7*32,512)\n",
    "        self.fc2=nn.Linear(512,64)\n",
    "        self.fc3=nn.Linear(64,2)\n",
    "        self.rule=nn.ReLU()\n",
    "        self.maxp=nn.MaxPool2d(2)\n",
    "        self.sig=nn.Sigmoid()\n",
    "        self.fla=nn.Flatten(1)\n",
    "\n",
    "    def forward(self,x):\n",
    "        out=self.conv1(x)\n",
    "        out=self.rule(out)\n",
    "        out=self.maxp(out)\n",
    "        out=self.conv2(out)\n",
    "        out=self.rule(out)\n",
    "        out=self.maxp(out)\n",
    "        out=self.conv3(out)\n",
    "        out=self.rule(out)\n",
    "        out=self.maxp(out)\n",
    "\n",
    "        out=self.fla(out)\n",
    "        out=self.fc1(out)\n",
    "        out=self.rule(out)\n",
    "        out=self.fc2(out)\n",
    "        out=self.rule(out)\n",
    "        out=self.fc3(out)\n",
    "        out=self.rule(out)\n",
    "        out=self.sig(out)\n",
    "\n",
    "        return out"
   ]
  },
  {
   "cell_type": "code",
   "execution_count": 55,
   "metadata": {},
   "outputs": [],
   "source": [
    "learning_rate=0.001\n",
    "momentum=0.5\n",
    "network=Net1()\n",
    "optimizer=optim.Adam(network.parameters(),lr=learning_rate)"
   ]
  },
  {
   "cell_type": "code",
   "execution_count": 56,
   "metadata": {},
   "outputs": [],
   "source": [
    "log_interval=10\n",
    "def train(network,epoch):\n",
    "    network.train()\n",
    "\n",
    "    for batch_idx,(data,target) in enumerate(train_loader):\n",
    "        optimizer.zero_grad()\n",
    "        output=network(data)\n",
    "        loss=F.cross_entropy(output,target)\n",
    "        loss.backward()\n",
    "        optimizer.step()\n",
    "\n",
    "        if batch_idx % log_interval==0:\n",
    "            train_losses.append(loss.item())\n",
    "            train_counter.append(batch_idx*64+(epoch-1)*len(train_loader.dataset))\n"
   ]
  },
  {
   "cell_type": "code",
   "execution_count": 57,
   "metadata": {},
   "outputs": [
    {
     "name": "stdout",
     "output_type": "stream",
     "text": [
      "Net1(\n",
      "  (conv1): Conv2d(1, 8, kernel_size=(5, 5), stride=(1, 1))\n",
      "  (conv2): Conv2d(8, 16, kernel_size=(3, 3), stride=(1, 1))\n",
      "  (conv3): Conv2d(16, 32, kernel_size=(3, 3), stride=(1, 1))\n",
      "  (conv2_drop): Dropout2d(p=0.5, inplace=False)\n",
      "  (fc1): Linear(in_features=1568, out_features=512, bias=True)\n",
      "  (fc2): Linear(in_features=512, out_features=64, bias=True)\n",
      "  (fc3): Linear(in_features=64, out_features=2, bias=True)\n",
      "  (rule): ReLU()\n",
      "  (maxp): MaxPool2d(kernel_size=2, stride=2, padding=0, dilation=1, ceil_mode=False)\n",
      "  (sig): Sigmoid()\n",
      "  (fla): Flatten(start_dim=1, end_dim=-1)\n",
      ")\n"
     ]
    }
   ],
   "source": [
    "def test(network):\n",
    "    network.eval()\n",
    "    test_loss=0\n",
    "    correct=0\n",
    "    with torch.no_grad():\n",
    "        for data,target in test_loader:\n",
    "            output=network(data)\n",
    "\n",
    "            test_loss +=F.cross_entropy(output,target,size_average=False).item()\n",
    "\n",
    "            pred=output.data.max(1,keepdim=True)[1]\n",
    "            correct +=pred.eq(target.data.view_as(pred)).sum()\n",
    "        test_loss/=len(test_loader.dataset)\n",
    "        test_losses.append(test_loss)\n",
    "        print('Test set:Avg. loss:{:.4f},Accuracy:{}/{} ({:.0f}%)'.format(test_loss,correct,len(test_loader.dataset),100.*correct/len(test_loader.dataset)))\n",
    "\n",
    "print(network)\n"
   ]
  },
  {
   "cell_type": "code",
   "execution_count": 58,
   "metadata": {},
   "outputs": [
    {
     "name": "stderr",
     "output_type": "stream",
     "text": [
      "d:\\miniconda\\envs\\gpu\\lib\\site-packages\\torch\\nn\\_reduction.py:42: UserWarning: size_average and reduce args will be deprecated, please use reduction='sum' instead.\n",
      "  warnings.warn(warning.format(ret))\n"
     ]
    },
    {
     "name": "stdout",
     "output_type": "stream",
     "text": [
      "Test set:Avg. loss:0.6945,Accuracy:147/326 (45%)\n",
      "Test set:Avg. loss:0.6891,Accuracy:179/326 (55%)\n",
      "Test set:Avg. loss:0.6874,Accuracy:181/326 (56%)\n",
      "Test set:Avg. loss:0.6880,Accuracy:182/326 (56%)\n",
      "Test set:Avg. loss:0.6779,Accuracy:198/326 (61%)\n",
      "Test set:Avg. loss:0.6743,Accuracy:197/326 (60%)\n",
      "Test set:Avg. loss:0.6747,Accuracy:195/326 (60%)\n",
      "Test set:Avg. loss:0.6811,Accuracy:184/326 (56%)\n",
      "Test set:Avg. loss:0.6784,Accuracy:190/326 (58%)\n",
      "Test set:Avg. loss:0.6778,Accuracy:186/326 (57%)\n",
      "Test set:Avg. loss:0.6768,Accuracy:185/326 (57%)\n",
      "Test set:Avg. loss:0.6731,Accuracy:197/326 (60%)\n",
      "Test set:Avg. loss:0.6813,Accuracy:189/326 (58%)\n",
      "Test set:Avg. loss:0.6736,Accuracy:186/326 (57%)\n",
      "Test set:Avg. loss:0.6673,Accuracy:199/326 (61%)\n",
      "Test set:Avg. loss:0.6611,Accuracy:210/326 (64%)\n",
      "Test set:Avg. loss:0.6667,Accuracy:199/326 (61%)\n",
      "Test set:Avg. loss:0.6662,Accuracy:192/326 (59%)\n",
      "Test set:Avg. loss:0.6682,Accuracy:196/326 (60%)\n",
      "Test set:Avg. loss:0.6597,Accuracy:201/326 (62%)\n",
      "Test set:Avg. loss:0.6889,Accuracy:180/326 (55%)\n",
      "Test set:Avg. loss:0.6689,Accuracy:198/326 (61%)\n",
      "Test set:Avg. loss:0.6601,Accuracy:203/326 (62%)\n",
      "Test set:Avg. loss:0.6564,Accuracy:207/326 (63%)\n",
      "Test set:Avg. loss:0.6800,Accuracy:190/326 (58%)\n",
      "Test set:Avg. loss:0.6527,Accuracy:210/326 (64%)\n",
      "Test set:Avg. loss:0.6501,Accuracy:211/326 (65%)\n",
      "Test set:Avg. loss:0.6491,Accuracy:214/326 (66%)\n",
      "Test set:Avg. loss:0.6388,Accuracy:220/326 (67%)\n",
      "Test set:Avg. loss:0.6489,Accuracy:210/326 (64%)\n",
      "Test set:Avg. loss:0.6367,Accuracy:221/326 (68%)\n",
      "Test set:Avg. loss:0.6470,Accuracy:211/326 (65%)\n",
      "Test set:Avg. loss:0.6465,Accuracy:213/326 (65%)\n",
      "Test set:Avg. loss:0.6405,Accuracy:219/326 (67%)\n",
      "Test set:Avg. loss:0.6332,Accuracy:225/326 (69%)\n",
      "Test set:Avg. loss:0.6390,Accuracy:216/326 (66%)\n",
      "Test set:Avg. loss:0.6407,Accuracy:218/326 (67%)\n",
      "Test set:Avg. loss:0.6285,Accuracy:224/326 (69%)\n",
      "Test set:Avg. loss:0.6322,Accuracy:222/326 (68%)\n",
      "Test set:Avg. loss:0.6281,Accuracy:223/326 (68%)\n",
      "Test set:Avg. loss:0.6294,Accuracy:228/326 (70%)\n",
      "Test set:Avg. loss:0.6295,Accuracy:224/326 (69%)\n",
      "Test set:Avg. loss:0.6225,Accuracy:231/326 (71%)\n",
      "Test set:Avg. loss:0.6136,Accuracy:236/326 (72%)\n",
      "Test set:Avg. loss:0.6195,Accuracy:230/326 (71%)\n",
      "Test set:Avg. loss:0.6187,Accuracy:233/326 (71%)\n",
      "Test set:Avg. loss:0.6243,Accuracy:221/326 (68%)\n",
      "Test set:Avg. loss:0.6152,Accuracy:233/326 (71%)\n",
      "Test set:Avg. loss:0.6072,Accuracy:238/326 (73%)\n",
      "Test set:Avg. loss:0.6206,Accuracy:229/326 (70%)\n",
      "Test set:Avg. loss:0.6215,Accuracy:226/326 (69%)\n",
      "Test set:Avg. loss:0.6209,Accuracy:230/326 (71%)\n",
      "Test set:Avg. loss:0.6091,Accuracy:239/326 (73%)\n",
      "Test set:Avg. loss:0.6104,Accuracy:240/326 (74%)\n",
      "Test set:Avg. loss:0.6101,Accuracy:240/326 (74%)\n",
      "Test set:Avg. loss:0.5960,Accuracy:248/326 (76%)\n",
      "Test set:Avg. loss:0.5902,Accuracy:253/326 (78%)\n",
      "Test set:Avg. loss:0.5969,Accuracy:250/326 (77%)\n",
      "Test set:Avg. loss:0.5900,Accuracy:249/326 (76%)\n",
      "Test set:Avg. loss:0.5959,Accuracy:250/326 (77%)\n",
      "Test set:Avg. loss:0.6072,Accuracy:238/326 (73%)\n",
      "Test set:Avg. loss:0.5990,Accuracy:246/326 (75%)\n",
      "Test set:Avg. loss:0.6129,Accuracy:232/326 (71%)\n",
      "Test set:Avg. loss:0.5969,Accuracy:248/326 (76%)\n",
      "Test set:Avg. loss:0.5877,Accuracy:259/326 (79%)\n",
      "Test set:Avg. loss:0.5810,Accuracy:261/326 (80%)\n",
      "Test set:Avg. loss:0.5812,Accuracy:253/326 (78%)\n",
      "Test set:Avg. loss:0.5825,Accuracy:259/326 (79%)\n",
      "Test set:Avg. loss:0.5770,Accuracy:261/326 (80%)\n",
      "Test set:Avg. loss:0.5837,Accuracy:255/326 (78%)\n",
      "Test set:Avg. loss:0.5722,Accuracy:262/326 (80%)\n",
      "Test set:Avg. loss:0.5789,Accuracy:257/326 (79%)\n",
      "Test set:Avg. loss:0.5735,Accuracy:260/326 (80%)\n",
      "Test set:Avg. loss:0.5746,Accuracy:261/326 (80%)\n",
      "Test set:Avg. loss:0.5868,Accuracy:251/326 (77%)\n",
      "Test set:Avg. loss:0.5743,Accuracy:259/326 (79%)\n",
      "Test set:Avg. loss:0.5767,Accuracy:259/326 (79%)\n",
      "Test set:Avg. loss:0.5687,Accuracy:265/326 (81%)\n",
      "Test set:Avg. loss:0.5732,Accuracy:258/326 (79%)\n",
      "Test set:Avg. loss:0.5656,Accuracy:267/326 (82%)\n",
      "Test set:Avg. loss:0.5955,Accuracy:246/326 (75%)\n",
      "Test set:Avg. loss:0.5693,Accuracy:264/326 (81%)\n",
      "Test set:Avg. loss:0.5694,Accuracy:261/326 (80%)\n",
      "Test set:Avg. loss:0.5712,Accuracy:262/326 (80%)\n",
      "Test set:Avg. loss:0.5753,Accuracy:257/326 (79%)\n",
      "Test set:Avg. loss:0.5748,Accuracy:259/326 (79%)\n",
      "Test set:Avg. loss:0.5694,Accuracy:267/326 (82%)\n",
      "Test set:Avg. loss:0.5646,Accuracy:266/326 (82%)\n",
      "Test set:Avg. loss:0.5567,Accuracy:274/326 (84%)\n",
      "Test set:Avg. loss:0.5686,Accuracy:265/326 (81%)\n",
      "Test set:Avg. loss:0.5636,Accuracy:268/326 (82%)\n",
      "Test set:Avg. loss:0.5592,Accuracy:267/326 (82%)\n",
      "Test set:Avg. loss:0.5588,Accuracy:272/326 (83%)\n",
      "Test set:Avg. loss:0.5616,Accuracy:266/326 (82%)\n",
      "Test set:Avg. loss:0.5671,Accuracy:265/326 (81%)\n",
      "Test set:Avg. loss:0.5636,Accuracy:267/326 (82%)\n",
      "Test set:Avg. loss:0.5657,Accuracy:265/326 (81%)\n",
      "Test set:Avg. loss:0.5590,Accuracy:269/326 (83%)\n",
      "Test set:Avg. loss:0.5623,Accuracy:269/326 (83%)\n",
      "Test set:Avg. loss:0.5656,Accuracy:266/326 (82%)\n",
      "Test set:Avg. loss:0.5766,Accuracy:259/326 (79%)\n",
      "Test set:Avg. loss:0.5648,Accuracy:267/326 (82%)\n",
      "Test set:Avg. loss:0.5648,Accuracy:267/326 (82%)\n",
      "Test set:Avg. loss:0.5637,Accuracy:269/326 (83%)\n",
      "Test set:Avg. loss:0.5553,Accuracy:271/326 (83%)\n",
      "Test set:Avg. loss:0.5649,Accuracy:265/326 (81%)\n",
      "Test set:Avg. loss:0.5567,Accuracy:272/326 (83%)\n",
      "Test set:Avg. loss:0.5640,Accuracy:265/326 (81%)\n",
      "Test set:Avg. loss:0.5919,Accuracy:247/326 (76%)\n",
      "Test set:Avg. loss:0.5622,Accuracy:269/326 (83%)\n",
      "Test set:Avg. loss:0.5426,Accuracy:282/326 (87%)\n",
      "Test set:Avg. loss:0.5529,Accuracy:273/326 (84%)\n",
      "Test set:Avg. loss:0.5519,Accuracy:276/326 (85%)\n",
      "Test set:Avg. loss:0.5574,Accuracy:271/326 (83%)\n",
      "Test set:Avg. loss:0.5524,Accuracy:273/326 (84%)\n",
      "Test set:Avg. loss:0.5569,Accuracy:273/326 (84%)\n",
      "Test set:Avg. loss:0.5561,Accuracy:273/326 (84%)\n",
      "Test set:Avg. loss:0.5505,Accuracy:277/326 (85%)\n",
      "Test set:Avg. loss:0.5665,Accuracy:266/326 (82%)\n",
      "Test set:Avg. loss:0.5685,Accuracy:263/326 (81%)\n",
      "Test set:Avg. loss:0.5491,Accuracy:277/326 (85%)\n",
      "Test set:Avg. loss:0.5662,Accuracy:265/326 (81%)\n",
      "Test set:Avg. loss:0.5551,Accuracy:275/326 (84%)\n",
      "Test set:Avg. loss:0.5652,Accuracy:267/326 (82%)\n",
      "Test set:Avg. loss:0.5490,Accuracy:281/326 (86%)\n",
      "Test set:Avg. loss:0.5519,Accuracy:276/326 (85%)\n",
      "Test set:Avg. loss:0.5561,Accuracy:273/326 (84%)\n",
      "Test set:Avg. loss:0.5544,Accuracy:274/326 (84%)\n",
      "Test set:Avg. loss:0.5510,Accuracy:275/326 (84%)\n",
      "Test set:Avg. loss:0.5461,Accuracy:278/326 (85%)\n",
      "Test set:Avg. loss:0.5564,Accuracy:271/326 (83%)\n",
      "Test set:Avg. loss:0.5535,Accuracy:274/326 (84%)\n",
      "Test set:Avg. loss:0.5584,Accuracy:270/326 (83%)\n",
      "Test set:Avg. loss:0.5574,Accuracy:272/326 (83%)\n",
      "Test set:Avg. loss:0.5532,Accuracy:273/326 (84%)\n",
      "Test set:Avg. loss:0.5623,Accuracy:267/326 (82%)\n",
      "Test set:Avg. loss:0.5550,Accuracy:274/326 (84%)\n",
      "Test set:Avg. loss:0.5484,Accuracy:277/326 (85%)\n",
      "Test set:Avg. loss:0.5562,Accuracy:273/326 (84%)\n",
      "Test set:Avg. loss:0.5505,Accuracy:277/326 (85%)\n",
      "Test set:Avg. loss:0.5592,Accuracy:270/326 (83%)\n",
      "Test set:Avg. loss:0.5480,Accuracy:279/326 (86%)\n",
      "Test set:Avg. loss:0.5638,Accuracy:266/326 (82%)\n",
      "Test set:Avg. loss:0.5530,Accuracy:274/326 (84%)\n",
      "Test set:Avg. loss:0.5538,Accuracy:273/326 (84%)\n",
      "Test set:Avg. loss:0.5605,Accuracy:270/326 (83%)\n",
      "Test set:Avg. loss:0.5644,Accuracy:269/326 (83%)\n",
      "Test set:Avg. loss:0.5701,Accuracy:264/326 (81%)\n",
      "Test set:Avg. loss:0.5578,Accuracy:272/326 (83%)\n",
      "Test set:Avg. loss:0.5578,Accuracy:272/326 (83%)\n",
      "Test set:Avg. loss:0.5527,Accuracy:276/326 (85%)\n",
      "Test set:Avg. loss:0.5502,Accuracy:277/326 (85%)\n",
      "Test set:Avg. loss:0.5516,Accuracy:276/326 (85%)\n",
      "Test set:Avg. loss:0.5501,Accuracy:277/326 (85%)\n",
      "Test set:Avg. loss:0.5575,Accuracy:271/326 (83%)\n",
      "Test set:Avg. loss:0.5506,Accuracy:274/326 (84%)\n",
      "Test set:Avg. loss:0.5501,Accuracy:276/326 (85%)\n",
      "Test set:Avg. loss:0.5517,Accuracy:275/326 (84%)\n",
      "Test set:Avg. loss:0.5389,Accuracy:283/326 (87%)\n",
      "Test set:Avg. loss:0.5492,Accuracy:276/326 (85%)\n",
      "Test set:Avg. loss:0.5550,Accuracy:272/326 (83%)\n",
      "Test set:Avg. loss:0.5450,Accuracy:280/326 (86%)\n",
      "Test set:Avg. loss:0.5468,Accuracy:278/326 (85%)\n",
      "Test set:Avg. loss:0.5460,Accuracy:280/326 (86%)\n",
      "Test set:Avg. loss:0.5516,Accuracy:277/326 (85%)\n",
      "Test set:Avg. loss:0.5546,Accuracy:273/326 (84%)\n",
      "Test set:Avg. loss:0.5530,Accuracy:274/326 (84%)\n",
      "Test set:Avg. loss:0.5454,Accuracy:279/326 (86%)\n",
      "Test set:Avg. loss:0.5463,Accuracy:278/326 (85%)\n",
      "Test set:Avg. loss:0.5506,Accuracy:277/326 (85%)\n",
      "Test set:Avg. loss:0.5471,Accuracy:279/326 (86%)\n",
      "Test set:Avg. loss:0.5523,Accuracy:274/326 (84%)\n",
      "Test set:Avg. loss:0.5463,Accuracy:280/326 (86%)\n",
      "Test set:Avg. loss:0.5551,Accuracy:273/326 (84%)\n",
      "Test set:Avg. loss:0.5506,Accuracy:276/326 (85%)\n",
      "Test set:Avg. loss:0.5530,Accuracy:275/326 (84%)\n",
      "Test set:Avg. loss:0.5535,Accuracy:273/326 (84%)\n",
      "Test set:Avg. loss:0.5472,Accuracy:277/326 (85%)\n",
      "Test set:Avg. loss:0.5401,Accuracy:281/326 (86%)\n",
      "Test set:Avg. loss:0.5591,Accuracy:270/326 (83%)\n",
      "Test set:Avg. loss:0.5581,Accuracy:270/326 (83%)\n",
      "Test set:Avg. loss:0.5413,Accuracy:283/326 (87%)\n",
      "Test set:Avg. loss:0.5368,Accuracy:286/326 (88%)\n",
      "Test set:Avg. loss:0.5480,Accuracy:278/326 (85%)\n",
      "Test set:Avg. loss:0.5426,Accuracy:283/326 (87%)\n",
      "Test set:Avg. loss:0.5464,Accuracy:279/326 (86%)\n",
      "Test set:Avg. loss:0.5382,Accuracy:283/326 (87%)\n",
      "Test set:Avg. loss:0.5580,Accuracy:272/326 (83%)\n",
      "Test set:Avg. loss:0.5447,Accuracy:278/326 (85%)\n",
      "Test set:Avg. loss:0.5705,Accuracy:263/326 (81%)\n",
      "Test set:Avg. loss:0.5456,Accuracy:278/326 (85%)\n",
      "Test set:Avg. loss:0.5477,Accuracy:279/326 (86%)\n",
      "Test set:Avg. loss:0.5417,Accuracy:283/326 (87%)\n",
      "Test set:Avg. loss:0.5521,Accuracy:275/326 (84%)\n",
      "Test set:Avg. loss:0.5521,Accuracy:274/326 (84%)\n",
      "Test set:Avg. loss:0.5395,Accuracy:283/326 (87%)\n",
      "Test set:Avg. loss:0.5421,Accuracy:279/326 (86%)\n",
      "Test set:Avg. loss:0.5379,Accuracy:284/326 (87%)\n",
      "Test set:Avg. loss:0.5436,Accuracy:281/326 (86%)\n",
      "Test set:Avg. loss:0.5342,Accuracy:288/326 (88%)\n",
      "Test set:Avg. loss:0.5449,Accuracy:279/326 (86%)\n"
     ]
    }
   ],
   "source": [
    "n_epochs=200\n",
    "train_losses=[]\n",
    "train_counter=[]\n",
    "test_losses=[]\n",
    "test_counter=[i*len(train_loader.dataset) for  i in range(n_epochs +1)]\n",
    "test(network)\n",
    "for epoch in range(1,n_epochs+1):\n",
    "    train(network,epoch)\n",
    "    test(network)\n"
   ]
  },
  {
   "cell_type": "code",
   "execution_count": 59,
   "metadata": {},
   "outputs": [
    {
     "data": {
      "text/plain": [
       "Text(0.5, 0, 'number of training examples seen')"
      ]
     },
     "execution_count": 59,
     "metadata": {},
     "output_type": "execute_result"
    },
    {
     "data": {
      "image/png": "[encoded data removed]",
      "text/plain": [
       "<Figure size 432x288 with 1 Axes>"
      ]
     },
     "metadata": {
      "needs_background": "light"
     },
     "output_type": "display_data"
    }
   ],
   "source": [
    "import matplotlib.pyplot as plt\n",
    "fig=plt.figure()\n",
    "plt.plot(train_counter,train_losses,color='blue')\n",
    "plt.scatter(test_counter,test_losses,color='red')\n",
    "plt.legend(['Train Loss','Test Loss'],loc='upper right')\n",
    "plt.xlabel('number of training examples seen')"
   ]
  }
 ],
 "metadata": {
  "interpreter": {
   "hash": "6f938d9ca5221de8308fc3446190590166d8c8057baf7d488a7698d9bb57cfa0"
  },
  "kernelspec": {
   "display_name": "Python 3.9.12 ('gpu')",
   "language": "python",
   "name": "python3"
  },
  "language_info": {
   "codemirror_mode": {
    "name": "ipython",
    "version": 3
   },
   "file_extension": ".py",
   "mimetype": "text/x-python",
   "name": "python",
   "nbconvert_exporter": "python",
   "pygments_lexer": "ipython3",
   "version": "3.9.19"
  },
  "orig_nbformat": 4
 },
 "nbformat": 4,
 "nbformat_minor": 2
}
